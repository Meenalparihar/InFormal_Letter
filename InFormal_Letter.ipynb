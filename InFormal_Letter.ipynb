{
 "cells": [
  {
   "cell_type": "code",
   "execution_count": null,
   "id": "7a45ea12",
   "metadata": {},
   "outputs": [],
   "source": [
    "Ttag=(\"\\t\\t\\t\\t\\t\\t\\t\\t\\t\\t\\t\\t\\t\")\n",
    "Mtag=(\"\\t\\t\\t\\t\\t\\t\")\n",
    "SenderAddress=input(\"Enter sender address:\")\n",
    "Date=input(\"Enter date of writing the letter:\")\n",
    "RecipientAddress=input(\"enter Recipient address:\")\n",
    "Subject=input(\"enter subject:\")\n",
    "salutation=input(\"enter greetings:\")\n",
    "bodyoftheletter1=input(\"reason to write the letter:\")\n",
    "bodyoftheletter2=input(\"requesting:\")\n",
    "bodyoftheletter3=input(\"conclusion:\")\n",
    "complimentryclosing=input(\"enter complimentry closing:\")\n",
    "sendername=input(\"enter your name:\")\n",
    "print(Mtag,\"Informal letter\")\n",
    "print(\"\\n\\n\",Ttag,SenderAddress)\n",
    "print(\"\\n\",Ttag,Date)\n",
    "print(\"\\n\",Ttag,RecipientAddress)\n",
    "print(\"\\n\",\"Subject:\",Subject)\n",
    "print(\"\\n\",salutation)\n",
    "print(\"\\n\\n\",bodyoftheletter1)\n",
    "print(\"\\n\",bodyoftheletter2)\n",
    "print(\"\\n\",bodyoftheletter3)\n",
    "print(\"\\n\",complimentryclosing)\n",
    "print(\"\\n\",\"Signature:\")\n",
    "print(\"\\n\",sendername)"
   ]
  }
 ],
 "metadata": {
  "kernelspec": {
   "display_name": "Python 3 (ipykernel)",
   "language": "python",
   "name": "python3"
  },
  "language_info": {
   "codemirror_mode": {
    "name": "ipython",
    "version": 3
   },
   "file_extension": ".py",
   "mimetype": "text/x-python",
   "name": "python",
   "nbconvert_exporter": "python",
   "pygments_lexer": "ipython3",
   "version": "3.11.4"
  }
 },
 "nbformat": 4,
 "nbformat_minor": 5
}
